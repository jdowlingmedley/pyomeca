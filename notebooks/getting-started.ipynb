{
 "cells": [
  {
   "cell_type": "markdown",
   "source": [
    "# Getting Started\n",
    "\n",
    "## Installation\n",
    "\n",
    "motion itself is a pure Python package, but its dependencies are not.\n",
    "The easiest way to get everything installed is to use [conda](https://conda.io/en/latest/miniconda.html).\n",
    "To install motion with its recommended dependencies using the conda command line tool:\n",
    "\n",
    "```bash\n",
    "conda install -c conda-forge motion\n",
    "```\n",
    "\n",
    "Now that motion is installed, you should be able to import it:"
   ],
   "metadata": {
    "collapsed": false
   }
  },
  {
   "cell_type": "code",
   "execution_count": null,
   "outputs": [],
   "source": [
    "import motion"
   ],
   "metadata": {
    "collapsed": false,
    "pycharm": {
     "name": "#%%\n"
    }
   }
  },
  {
   "cell_type": "markdown",
   "source": [
    "## Core data structures\n",
    "\n",
    "Motion have several data structures, which build upon and extend the core strengths of [xarray](http://xarray.pydata.org/en/stable/index.html).\n",
    "\n",
    "- Analogs\n",
    "- Markers\n",
    "- Angles\n",
    "- Rototrans\n",
    "\n"
   ],
   "metadata": {
    "collapsed": false
   }
  }
 ],
 "metadata": {
  "kernelspec": {
   "display_name": "Python [conda env:motion]",
   "language": "python",
   "name": "conda-env-motion-py"
  },
  "language_info": {
   "codemirror_mode": {
    "name": "ipython",
    "version": 3
   },
   "file_extension": ".py",
   "mimetype": "text/x-python",
   "name": "python",
   "nbconvert_exporter": "python",
   "pygments_lexer": "ipython3",
   "version": "3.8.0"
  },
  "pycharm": {
   "stem_cell": {
    "cell_type": "raw",
    "source": [],
    "metadata": {
     "collapsed": false
    }
   }
  }
 },
 "nbformat": 4,
 "nbformat_minor": 4
}